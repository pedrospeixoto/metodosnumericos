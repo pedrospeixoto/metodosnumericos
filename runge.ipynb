{
 "cells": [
  {
   "cell_type": "markdown",
   "metadata": {},
   "source": [
    "# Fenômeno de Runge\n",
    "\n",
    "### Prof. Pedro Peixoto <ppeixoto@usp.br>\n",
    "\n",
    "Maio 2022\n"
   ]
  },
  {
   "cell_type": "code",
   "execution_count": 17,
   "metadata": {},
   "outputs": [],
   "source": [
    "import numpy as np\n",
    "import sys\n",
    "import matplotlib.pyplot as plt\n"
   ]
  },
  {
   "cell_type": "code",
   "execution_count": 20,
   "metadata": {},
   "outputs": [],
   "source": [
    "def lagrange(x, y, x_samples):\n",
    "    y_samples = np.zeros_like(x_samples)\n",
    "    for xi, yi in zip(x, y):\n",
    "        y_samples += yi*np.prod([(x_samples - xj)/(xi - xj)\n",
    "            for xj in x if xi!=xj], axis=0)\n",
    "    return y_samples"
   ]
  },
  {
   "cell_type": "code",
   "execution_count": 21,
   "metadata": {},
   "outputs": [
    {
     "data": {
      "image/png": "[encoded data removed]",
      "text/plain": [
       "<Figure size 432x288 with 1 Axes>"
      ]
     },
     "metadata": {
      "needs_background": "light"
     },
     "output_type": "display_data"
    },
    {
     "name": "stdout",
     "output_type": "stream",
     "text": [
      "n= 20   Max Error= 8.579052045885195\n"
     ]
    }
   ],
   "source": [
    "#Runge function\n",
    "f = lambda x: 1/(1 + 25*x**2)\n",
    "n= 20\n",
    "\n",
    "#Dados\n",
    "x = np.linspace(-1, 1, n)\n",
    "\n",
    "# Locais onde quero calcular (interpolar) -\n",
    "#   vou colocar mais pontos para ver como se conporta entre os pontos dados\n",
    "x_full = np.linspace(-1, 1, 10000)\n",
    "\n",
    "y_full = lagrange(x, f(x), x_full)\n",
    "\n",
    "plt.plot(x, f(x), \"k\")\n",
    "plt.plot(x_full, y_full)\n",
    "\n",
    "plt.xlabel(\"x\")\n",
    "plt.ylabel(\"y\")\n",
    "plt.show()\n",
    "\n",
    "print(\"n=\", n, \"  Max Error=\", np.max(np.abs(y_full-f(x_full))))"
   ]
  },
  {
   "cell_type": "code",
   "execution_count": 22,
   "metadata": {},
   "outputs": [],
   "source": [
    "# https://notebook.community/tclaudioe/Scientific-Computing/SC1/07_Polynomial_Interpolation_1D\n",
    "\n",
    "def Chebyshev(xmin,xmax,n=5):\n",
    "    # This function calculates the n Chebyshev points and plots or returns them depending on ax\n",
    "    ns = np.arange(1,n+1)\n",
    "    x = np.cos((2*ns-1)*np.pi/(2*n))\n",
    "    y = np.sin((2*ns-1)*np.pi/(2*n))\n",
    "    plt.figure(figsize=(10,5))\n",
    "    plt.ylim(-0.1,1.1)\n",
    "    plt.xlim(-1.1,1.1)\n",
    "    plt.plot(np.cos(np.linspace(0,np.pi)),np.sin(np.linspace(0,np.pi)),'k-')\n",
    "    plt.plot([-2,2],[0,0],'k-')\n",
    "    plt.plot([0,0],[-1,2],'k-')\n",
    "    for i in range(len(y)):\n",
    "        plt.plot([x[i],x[i]],[0,y[i]],'r-')\n",
    "        plt.plot([0,x[i]],[0,y[i]],'r-')\n",
    "    plt.plot(x,[0]*len(x),'bo',label='Chebyshev points')\n",
    "    plt.plot(x,y,'ro')\n",
    "    plt.xlabel('$x$')\n",
    "    plt.title('n = '+str(n))\n",
    "    plt.grid(True)\n",
    "    plt.legend(loc='best')\n",
    "    plt.show()\n",
    "\n",
    "def Chebyshev_points(xmin,xmax,n):\n",
    "    ns = np.arange(1,n+1)\n",
    "    x = np.cos((2*ns-1)*np.pi/(2*n))\n",
    "    return (xmin+xmax)/2 + (xmax-xmin)*x/2\n"
   ]
  },
  {
   "cell_type": "code",
   "execution_count": null,
   "metadata": {},
   "outputs": [
    {
     "data": {
      "application/vnd.jupyter.widget-view+json": {
       "model_id": "0f15d4b6ca104cfeb9b441bdb0315a95",
       "version_major": 2,
       "version_minor": 0
      },
      "text/plain": [
       "interactive(children=(IntSlider(value=5, description='n', max=50, min=2), Output()), _dom_classes=('widget-int…"
      ]
     },
     "metadata": {},
     "output_type": "display_data"
    },
    {
     "data": {
      "text/plain": [
       "<function __main__.Chebyshev(xmin, xmax, n=5)>"
      ]
     },
     "execution_count": 12,
     "metadata": {},
     "output_type": "execute_result"
    }
   ],
   "source": [
    "from ipywidgets import interact, fixed, IntSlider\n",
    "\n",
    "interact(Chebyshev,xmin=fixed(-1),xmax=fixed(1),n=(2,50))\n"
   ]
  },
  {
   "cell_type": "code",
   "execution_count": null,
   "metadata": {},
   "outputs": [
    {
     "data": {
      "image/png": "[encoded data removed]",
      "text/plain": [
       "<Figure size 432x288 with 1 Axes>"
      ]
     },
     "metadata": {
      "needs_background": "light"
     },
     "output_type": "display_data"
    },
    {
     "name": "stdout",
     "output_type": "stream",
     "text": [
      "n= 20   Max Error= 0.03759024429779412\n"
     ]
    }
   ],
   "source": [
    "\n",
    "\n",
    "#Runge function\n",
    "f = lambda x: 1/(1 + 25*x**2)\n",
    "n= 20\n",
    "\n",
    "#Dados\n",
    "x = Chebyshev_points(-1,1,n)\n",
    "\n",
    "# Locais onde quero calcular (interpolar) -\n",
    "#   vou colocar mais pontos para ver como se conporta entre os pontos dados\n",
    "x_full = np.linspace(-1, 1, 10000)\n",
    "\n",
    "y_full = lagrange(x, f(x), x_full)\n",
    "\n",
    "plt.plot(x, f(x), \"k\")\n",
    "plt.plot(x_full, y_full)\n",
    "\n",
    "plt.xlabel(\"x\")\n",
    "plt.ylabel(\"y\")\n",
    "plt.show()\n",
    "\n",
    "print(\"n=\", n, \"  Max Error=\", np.max(np.abs(y_full-f(x_full))))"
   ]
  },
  {
   "cell_type": "code",
   "execution_count": null,
   "metadata": {},
   "outputs": [],
   "source": []
  }
 ],
 "metadata": {
  "interpreter": {
   "hash": "8b4e9e530fc5c670eb607b6670c5e86d974972dc67aa68117cbb7d353cc80e46"
  },
  "kernelspec": {
   "display_name": "Python 3.8.5 ('base')",
   "language": "python",
   "name": "python3"
  },
  "language_info": {
   "codemirror_mode": {
    "name": "ipython",
    "version": 3
   },
   "file_extension": ".py",
   "mimetype": "text/x-python",
   "name": "python",
   "nbconvert_exporter": "python",
   "pygments_lexer": "ipython3",
   "version": "3.8.5"
  }
 },
 "nbformat": 4,
 "nbformat_minor": 4
}
