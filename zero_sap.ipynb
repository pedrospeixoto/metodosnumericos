{
 "cells": [
  {
   "cell_type": "markdown",
   "metadata": {},
   "source": [
    "# Um Método Híbrido Dicotomia-Secante\n",
    "## Nelson Kuhl - IME - USP\n",
    "O método da dicotomia é robusto, mas converge lentamente. O método da secante converge rapidamente, desde que comecemos suficientemente próximo à raiz da função. Como não conhecemos a priori este *suficientemente próximo*, podemos combinar os métodos da dicotomia e da secante para cercar a raiz e explorar o que ambos tem de bom.\n",
    "\n",
    "O método descrito a seguir faz isso. Ele é apresentado no livro *Fundamentals of Numerical Computing*, de L.F. Shampine, R.C. Allen, Jr. S. Pruess (John Wiley & Sons, Inc., 1997). O algoritmo calcula uma raiz de uma função contínua $f$ definida inicialmente em um intervalo $[B,C]$ tal que $f(B)*f(C)<0$. Durante as iterações, $B$ e $C$ serão modificados, sendo sempre os extremos de um intervalo cujo comprimento diminui e tais que $f(B)*f(C)<0$.\n",
    "\n",
    "Em condições favoráveis, $B$ é calculado pelo método da secante e é uma aproximação bem melhor para a raiz do que $C$ ou do que o ponto médio do intervalo $M = (B+C)/2$. Buscando essas situações, o algoritmo troca, quando necessário, os valores de $B$ e $C$ de modo a garantir sempre que $\\vert f(B)\\vert \\le \\vert f(A)\\vert$. Se a qualquer momento o valor calculado de $f(B)$ for zero, as contas são interrompidas e $B$ é identificado como uma raiz.\n",
    "\n",
    "O teste de convergência é uma combinação de erros absoluto e relativo, especificados pelos parâmetros ABSERR e RELERR, respectivamente. As iterações param quando tivermos\n",
    "$$\n",
    "    \\left\\vert \\frac{B-C}{2}\\right\\vert \\le \\max\\big\\{\\text{ABSERR}, \\vert B\\vert\\times\\text{RELERR}\\big\\} = \\text{TOL}.\n",
    "$$\n",
    "Busca-se assim aproximações com um erro relativo especificado, exceto quando a raiz é muito próxima de zero e o erro absoluto predomina.\n",
    "\n",
    "O algoritmo usa o método da secante, exceto quando houver razão para não usá-lo. O valor de $C$ é atribuído a uma variável $A$, e as duas varáveis $A$ e $B$ são usadas como as duas iterações usadas pelo método da secante para calcular\n",
    "$$\n",
    "    D = B - f(B)\\frac{B-A}{f(B)-f(A)}.\n",
    "$$\n",
    "Se o valor de $D$ cair fora do intervalo $[B,M]$ ou se a redução do tamnanho do intervalo não for satisfatória, usa-se a dicotomia. Caso contrário, $D$ é usado (exceto se estiver *muito* próximo de $B$, quando um delocamento mínimo de TOL é usado). Após decidir qual será a nova aproximação, este valor é atribuido a $B$, substituindo o valor anterior. Se $f(B)=0$, a execução é encerrada. Caso contrário, variáveis são atualizadas para a nova iteração: o antigo $B$ substitui $A$ e o antigo $C$ é mantido ou substituido pelo antigo $B$, para garantir $f(B)\\cdot f(C)<0)$.\n",
    "\n",
    "Para mais detalhes, consulte o livro mencionado acima. Todos os algoritmos do livro, em várias linguagens de programação, podem ser acessados em <blockquote>ftp.wiley.com/public/college/math/sapcodes/</blockquote> A implementação abaixo é uma adaptação para Python da subrotina ZERO contida na biblioteca saplib.f90: <blockquote>ftp.wiley.com/public/college/math/sapcodes/f90code/saplib.f90</blockquote>"
   ]
  },
  {
   "cell_type": "code",
   "execution_count": 1,
   "metadata": {},
   "outputs": [],
   "source": [
    "\"\"\"\n",
    "Created on Wed Apr  6 17:02:52 2022\n",
    "Modifyed on MTue Apr  12 13:45:00 2022\n",
    "\n",
    "@author: Nelson Kuhl (IME-USP) (actually pseudo author)\n",
    "\n",
    "This function computes a root of the nonlinear equation F(x) = 0 when F(x)\n",
    "is a continuous real function of a single real variable X. The method used\n",
    "is a combination of bisection and secant rule, as described in Chapter 4\n",
    "of the text \"Fundamentals of Numerical Computing\", by L.F. Shampine,\n",
    "R.C. Allen, and S. Pruess. This Python implementation is an adaptation of\n",
    "the Fortran 90 subroutine ZERO in the library saplib.f90:\n",
    "  \n",
    "  ftp.wiley.com/public/college/math/sapcodes/f90code/saplib.f90\n",
    "\n",
    "Actually, in the address\n",
    "\n",
    "  ftp.wiley.com/public/college/math/sapcodes/\n",
    "\n",
    "you will find directories with all the codes of the book mentioned above in\n",
    "the programming languges C, C++, Fortran77, Fortran90 and MATLAB.\n",
    "\n",
    "*************************************\n",
    "\n",
    "CALLING: root = zero_sap(F, B, C, ABSERR, RELERR)\n",
    "\n",
    "  Parameters:\n",
    "    F      = name of the function code defining F(X).\n",
    "    B,C    = values of X such that F(B)*F(C) <= 0.\n",
    " ABSERR,RELERR = absolute and relative error tolerances.\n",
    "            The stopping criterion is\n",
    "                 ABS(B - C) <= 2*MAX(ABSERR,ABS(B)*RELERR).\n",
    "\n",
    "TO DO: better output messages\n",
    "---------------------\n",
    "\"\"\"\n",
    "\n",
    "def zero_sap(F, B, C, ABSERR, RELERR):\n",
    "\n",
    "  import numpy as np\n",
    "  \n",
    "  UROUND = np.finfo(float).eps # Rounding unit\n",
    "  MAXF = 500 # Maximum number of function evaluations\n",
    "  \n",
    "  # Test the input tolerances\n",
    "  if ((RELERR < 10*UROUND) or (ABSERR < 0.0)):\n",
    "    print(\"ABSERR < 0 or RELERR too small\")\n",
    "    return None\n",
    "  \n",
    "  # Initialization\n",
    "  COUNT = 0 # Controls the choice for bisection\n",
    "  WIDTH = abs(B - C)\n",
    "  A = C\n",
    "  FA = F(A)\n",
    "  NUMF = 1\n",
    "  if (abs(FA) <= 0.0):\n",
    "    print(\"Root = %.9E; F = %.1F (Exact!)\" % (A, 0))\n",
    "    print(\"Number of function evaluations: %d\" % NUMF)\n",
    "    return A\n",
    "  FB = F(B)\n",
    "  NUMF = 2\n",
    "  if (abs(FB) <= 0.0):\n",
    "    print(\"Root = %.9E; F = %.1F (Exact!)\" % (B, 0))\n",
    "    print(\"Number of function evaluations: %d\" % NUMF)\n",
    "    return B\n",
    "  if (np.sign(FA) * np.sign(FB) > 0.0):\n",
    "    print(\"SAME SIGN AT THE INTERVAL END POINTS\")\n",
    "    return None\n",
    "  RES = max(abs(FA), abs(FB))\n",
    "  FC = FA\n",
    "  \n",
    "  # Main loop\n",
    "  while (NUMF < MAXF):\n",
    "    \n",
    "    # Interchange B and C so that abs(F(B)) <= abs(F(c))\n",
    "    if (abs(FC) < abs(FB)):\n",
    "      A = B\n",
    "      FA = FB\n",
    "      B = C\n",
    "      FB = FC\n",
    "      C = A\n",
    "      FC = FA\n",
    "    \n",
    "    CMB = 0.5 * (C - B)\n",
    "    ACMB = abs(CMB)\n",
    "    TOL = max(ABSERR, abs(B)*RELERR)\n",
    "    \n",
    "    # Test the stop criterium\n",
    "    if (ACMB <= TOL):\n",
    "      if (abs(FB) > 100*RES):\n",
    "        print(\"Probably a pole than a root\")\n",
    "      print(\"Root = %.9E; F = %.1E\" % (B, FB))\n",
    "      print(\"Number of function evaluations: %d\" % NUMF)\n",
    "      return B\n",
    "    \n",
    "    # Calculate new iterate implicitly as B + P/Q after arranging\n",
    "    # that P >= 0. The implicit form is used to prevent overflow\n",
    "    P = (B - A) * FB\n",
    "    Q = FA - FB\n",
    "    if (P < 0.0):\n",
    "      P = -P\n",
    "      Q = -Q\n",
    "    \n",
    "    # Update A. Check if the length of the interval containing\n",
    "    # a zero is being reduced at a reasonable rate, and if not,\n",
    "    # bisect until it is\n",
    "    A = B\n",
    "    FA = FB\n",
    "    COUNT += 1\n",
    "    BISECT = False\n",
    "    if (COUNT >= 4):\n",
    "      if (8*ACMB >= WIDTH):\n",
    "        BISECT = True\n",
    "      else:\n",
    "        COUNT = 0\n",
    "        WIDTH = ACMB\n",
    "    \n",
    "    # Test for too small a change\n",
    "    if (P <= abs(Q)*TOL):\n",
    "      B = B + np.copysign(TOL, CMB) # Smallest increment alloed\n",
    "    else:\n",
    "      # Root ought to be between B and (C + B)/2\n",
    "      if (P < CMB*Q):\n",
    "        B = B + P/Q # Use secant rule\n",
    "      else:\n",
    "        BISECT = True # Use bisection\n",
    "    \n",
    "    if (BISECT):\n",
    "      B = C - CMB\n",
    "    \n",
    "    # The new iterate B has been computed\n",
    "    FB = F(B)\n",
    "    NUMF += 1\n",
    "    if (abs(FB) <= 0.0):\n",
    "      print(\"Root = %.9E; F = %.1F (Exact!)\" % (B, 0))\n",
    "      print(\"Number of function evaluations: %d\" % NUMF)\n",
    "      return B\n",
    "    \n",
    "    if (np.sign(FB) * np.sign(FC) > 0.0):\n",
    "      C = A\n",
    "      FC = FA\n",
    "    \n",
    "  print(\"Too many (%d)iterations!\" % MAXF)\n",
    "  return None\n"
   ]
  },
  {
   "cell_type": "markdown",
   "metadata": {},
   "source": [
    "### Exemplo\n",
    "Como teste para o algoritmo acima, usaremos a função\n",
    "$$\n",
    "    f(x) = e^x - 4x^2,\n",
    "$$\n",
    "que possui três raízes reais nos intervalos $[-1,0]$, $[0,1]$ e $[4,5]$."
   ]
  },
  {
   "cell_type": "code",
   "execution_count": 2,
   "metadata": {},
   "outputs": [],
   "source": [
    "import numpy as np, matplotlib.pyplot as plt"
   ]
  },
  {
   "cell_type": "code",
   "execution_count": 3,
   "metadata": {},
   "outputs": [],
   "source": [
    "# Definição da função\n",
    "def func(x): return np.exp(x) - 4*x**2"
   ]
  },
  {
   "cell_type": "code",
   "execution_count": 4,
   "metadata": {},
   "outputs": [
    {
     "data": {
      "image/png": "[encoded data removed]",
      "text/plain": [
       "<Figure size 504x648 with 1 Axes>"
      ]
     },
     "metadata": {},
     "output_type": "display_data"
    }
   ],
   "source": [
    "# Gráfico\n",
    "xx = np.linspace(-1,5,6000) # pontos de -1 a 5 com espaçamento 0.001\n",
    "plt.figure(figsize=((7,9)))\n",
    "plt.plot(xx, func(xx), label='e^x - 4*x^2')\n",
    "plt.xticks([-1, 0, 1, 2, 3, 4, 5])\n",
    "# Moving spines\n",
    "ax = plt.gca()\n",
    "ax.spines['right'].set_color('none')\n",
    "ax.spines['top'].set_color('none')\n",
    "ax.xaxis.set_ticks_position('bottom')\n",
    "ax.spines['bottom'].set_position(('data',0))\n",
    "ax.yaxis.set_ticks_position('left')\n",
    "ax.spines['left'].set_position(('data',0))\n",
    "plt.legend(loc='upper center');"
   ]
  },
  {
   "cell_type": "code",
   "execution_count": 5,
   "metadata": {},
   "outputs": [],
   "source": [
    "aerr = 1.e-12; rerr = 1.e-10 # Para o critério de parada. Mude (quase) à vontade"
   ]
  },
  {
   "cell_type": "code",
   "execution_count": 6,
   "metadata": {},
   "outputs": [
    {
     "name": "stdout",
     "output_type": "stream",
     "text": [
      "Root = -4.077767094E-01; F = 7.8E-16\n",
      "Number of function evaluations: 11\n"
     ]
    },
    {
     "data": {
      "text/plain": [
       "-0.40777670940448013"
      ]
     },
     "execution_count": 6,
     "metadata": {},
     "output_type": "execute_result"
    }
   ],
   "source": [
    "# Primeira raiz\n",
    "r1 = zero_sap(func, -1.0, 0.0, aerr, rerr)\n",
    "r1"
   ]
  },
  {
   "cell_type": "code",
   "execution_count": 7,
   "metadata": {},
   "outputs": [
    {
     "name": "stdout",
     "output_type": "stream",
     "text": [
      "Root = 7.148059124E-01; F = 6.4E-14\n",
      "Number of function evaluations: 9\n"
     ]
    },
    {
     "data": {
      "text/plain": [
       "0.7148059123627605"
      ]
     },
     "execution_count": 7,
     "metadata": {},
     "output_type": "execute_result"
    }
   ],
   "source": [
    "# Segunda raiz\n",
    "r2 = zero_sap(func, 0.0, 1.0, aerr, rerr)\n",
    "r2"
   ]
  },
  {
   "cell_type": "code",
   "execution_count": 8,
   "metadata": {},
   "outputs": [
    {
     "name": "stdout",
     "output_type": "stream",
     "text": [
      "SAME SIGN AT THE INTERVAL END POINTS\n"
     ]
    }
   ],
   "source": [
    "# Nenhuma raiz\n",
    "rvoid = zero_sap(func, 1.0, 2.0, aerr, rerr)\n",
    "rvoid"
   ]
  },
  {
   "cell_type": "code",
   "execution_count": 9,
   "metadata": {},
   "outputs": [
    {
     "name": "stdout",
     "output_type": "stream",
     "text": [
      "Root = 4.306584728E+00; F = -7.8E-09\n",
      "Number of function evaluations: 9\n"
     ]
    },
    {
     "data": {
      "text/plain": [
       "4.306584728024759"
      ]
     },
     "execution_count": 9,
     "metadata": {},
     "output_type": "execute_result"
    }
   ],
   "source": [
    "# Terceira raiz\n",
    "r3 = zero_sap(func, 4.0, 5.0, aerr, rerr)\n",
    "r3"
   ]
  },
  {
   "cell_type": "code",
   "execution_count": 10,
   "metadata": {},
   "outputs": [
    {
     "name": "stdout",
     "output_type": "stream",
     "text": [
      "Root = 4.306584728E+00; F = 6.9E-09\n",
      "Number of function evaluations: 13\n"
     ]
    },
    {
     "data": {
      "text/plain": [
       "4.306584728395502"
      ]
     },
     "execution_count": 10,
     "metadata": {},
     "output_type": "execute_result"
    }
   ],
   "source": [
    "# Qual raiz?\n",
    "rdoubt = zero_sap(func, -1.0, 5.0, aerr, rerr)\n",
    "rdoubt"
   ]
  },
  {
   "cell_type": "code",
   "execution_count": null,
   "metadata": {},
   "outputs": [],
   "source": []
  }
 ],
 "metadata": {
  "kernelspec": {
   "display_name": "Python 3",
   "language": "python",
   "name": "python3"
  },
  "language_info": {
   "codemirror_mode": {
    "name": "ipython",
    "version": 3
   },
   "file_extension": ".py",
   "mimetype": "text/x-python",
   "name": "python",
   "nbconvert_exporter": "python",
   "pygments_lexer": "ipython3",
   "version": "3.8.8"
  }
 },
 "nbformat": 4,
 "nbformat_minor": 2
}
