{
 "cells": [
  {
   "cell_type": "markdown",
   "metadata": {},
   "source": [
    "# Eliminação de Gauss\n",
    "\n",
    "### Prof. Pedro Peixoto <ppeixoto@usp.br>\n",
    "\n",
    "Abril 2022\n"
   ]
  },
  {
   "cell_type": "code",
   "execution_count": 1,
   "metadata": {},
   "outputs": [],
   "source": [
    "import numpy as np\n",
    "import sys\n",
    "import time"
   ]
  },
  {
   "cell_type": "markdown",
   "metadata": {},
   "source": [
    "### O problema Ax=b"
   ]
  },
  {
   "cell_type": "code",
   "execution_count": 2,
   "metadata": {},
   "outputs": [],
   "source": [
    "# Tamanho do sistema\n",
    "n = 300\n",
    "\n",
    "def create_matrix(n):\n",
    "    # Matriz aumentada A|b\n",
    "    a = np.zeros((n,n+1))\n",
    "\n",
    "    # Matriz A\n",
    "    for i in range(n):\n",
    "        for j in range(n):\n",
    "            if (i == j) :\n",
    "                a[i,j] = 2\n",
    "            elif (abs(i-j)< 2):\n",
    "                a[i,j] = -1\n",
    "\n",
    "    # Vetor b \n",
    "    for i in range(n):\n",
    "        a[i,n] = 1\n",
    "\n",
    "    #print(a)\n",
    "    return a\n",
    "    "
   ]
  },
  {
   "cell_type": "markdown",
   "metadata": {},
   "source": [
    "### O esquema clássico, sem pivotamento"
   ]
  },
  {
   "cell_type": "code",
   "execution_count": 3,
   "metadata": {},
   "outputs": [
    {
     "name": "stdout",
     "output_type": "stream",
     "text": [
      "Soma da Solução: 2272550.0000000903  Tempo que levou:  6.581117868423462\n",
      "\n",
      "Solução: \n",
      "150.00000000000156\n",
      "\n",
      "Teste: \n",
      "1.8189894035458565e-12\n"
     ]
    }
   ],
   "source": [
    "a = create_matrix(n)\n",
    "x = np.zeros(n)\n",
    "A = np.copy(a[:,:-1])\n",
    "b = np.copy(a[:,n]).reshape((n))\n",
    "\n",
    "start_time = time.time()\n",
    "# Escalonamento\n",
    "for i in range(n):\n",
    "    if a[i,i] == 0.0:\n",
    "        sys.exit('Ainda não implementei pivotamento :-( ')\n",
    "        \n",
    "    for j in range(i+1, n):\n",
    "        ratio = a[j,i]/a[i,i]\n",
    "        for k in range(n+1):\n",
    "            a[j,k] = a[j,k] - ratio * a[i,k]\n",
    "\n",
    "# Substituição\n",
    "x[n-1] = a[n-1,n]/a[n-1,n-1]\n",
    "\n",
    "for i in range(n-2,-1,-1):\n",
    "    x[i] = a[i,n]\n",
    "    \n",
    "    for j in range(i+1,n):\n",
    "        x[i] = x[i] - a[i,j]*x[j]\n",
    "    \n",
    "    x[i] = x[i]/a[i,i]\n",
    "tempo = time.time() - start_time\n",
    "\n",
    "print(\"Soma da Solução:\", np.sum(x), \" Tempo que levou: \", tempo)\n",
    "\n",
    "# Solução\n",
    "print('\\nSolução: ')\n",
    "print(x[0])\n",
    "print('\\nTeste: ')\n",
    "print(np.max(np.abs(b-A@x)))\n"
   ]
  },
  {
   "cell_type": "markdown",
   "metadata": {},
   "source": [
    "### Dá para vetorizar?"
   ]
  },
  {
   "cell_type": "code",
   "execution_count": 4,
   "metadata": {},
   "outputs": [
    {
     "name": "stdout",
     "output_type": "stream",
     "text": [
      "Soma da Solução: 2272550.0000000903  Tempo que levou:  0.17776012420654297\n",
      "\n",
      "Solução: \n",
      "150.00000000000156\n",
      "\n",
      "Teste: \n",
      "1.8189894035458565e-12\n"
     ]
    }
   ],
   "source": [
    "a = create_matrix(n)\n",
    "x = np.zeros(n)\n",
    "A = np.copy(a[:,:-1])\n",
    "b = np.copy(a[:,n]).reshape((n))\n",
    "\n",
    "start_time = time.time()\n",
    "\n",
    "# Escalonamento\n",
    "for i in range(n):\n",
    "    if a[i,i] == 0.0:\n",
    "        sys.exit('Ainda não implementei pivotamento :-( ')\n",
    "        \n",
    "    for j in range(i+1, n):        \n",
    "        #Vetorizei aqui!\n",
    "        a[j,:] = a[j,:] - a[j,i]/a[i,i] * a[i,:]\n",
    "\n",
    "# Substituição\n",
    "x[n-1] = a[n-1,n]/a[n-1,n-1]\n",
    "\n",
    "for i in range(n-2,-1,-1):\n",
    "    #Vetorizei aqui!\n",
    "    x[i] = (a[i,n] - np.dot(a[i,i+1:n], x[i+1:n]))/a[i,i]\n",
    "\n",
    "tempo = time.time() - start_time\n",
    "\n",
    "print(\"Soma da Solução:\", np.sum(x), \" Tempo que levou: \", tempo)\n",
    "\n",
    "# Solução\n",
    "print('\\nSolução: ')\n",
    "print(x[0])\n",
    "print('\\nTeste: ')\n",
    "print(np.max(np.abs(A@x- b)))"
   ]
  },
  {
   "cell_type": "markdown",
   "metadata": {},
   "source": [
    "### Dá para vetorizar mais?"
   ]
  },
  {
   "cell_type": "markdown",
   "metadata": {},
   "source": [
    "Para isso tem que mudar o algoritmos, vejamos um algoritmo de decomposição LU (que vai serir de base para Elim. Gaussiana vetorial): Algoritmo de Crout (ou Doolittle, dependendo de onde colocamos a diagonal unitária).\n",
    "\n",
    "O problema agora é Ax=LUx=b\n"
   ]
  },
  {
   "cell_type": "code",
   "execution_count": 5,
   "metadata": {},
   "outputs": [
    {
     "name": "stdout",
     "output_type": "stream",
     "text": [
      "Soma da Solução: 2272550.0000000903  Tempo que levou:  0.005848884582519531\n",
      "\n",
      "Solução: \n",
      "150.00000000000156\n",
      "\n",
      "Teste: \n",
      "1.8189894035458565e-12\n",
      "\n",
      "Teste LU: \n",
      "1.1102230246251565e-16\n"
     ]
    }
   ],
   "source": [
    "a = create_matrix(n)\n",
    "\n",
    "A = np.copy(a[:,:-1])\n",
    "b = np.copy(a[:,n]).reshape((n))\n",
    "\n",
    "start_time = time.time()\n",
    "\n",
    "#Guardo tanto L quanto U em uma única matriz!!!!\n",
    "LU = np.eye(n)\n",
    "# @ faz multiplicação de matrizes usando numpy\n",
    "for i in range(n):\n",
    "    #Varre linhas superiores (Upper)\n",
    "    LU[i,i:] = A[i,i:]-LU[i,:i] @ LU[:i,i:]\n",
    "    #Varre colunas inferiores (Lower)\n",
    "    LU[(i+1):,i] = ( A[(i+1):,i]- LU[(i+1):,:i] @ LU[:i,i] ) / LU[i,i]\n",
    "\n",
    "\n",
    "# Substituição\n",
    "# LUx=b\n",
    "# Ly=b\n",
    "y = np.zeros(n)\n",
    "# Ly=b\n",
    "y[0] = b[0]\n",
    "for i in range(1,n,1):\n",
    "    #Vetorizei aqui!\n",
    "    y[i] = (b[i] - np.dot(LU[i,:i], y[:i]))\n",
    "\n",
    "# Ux=y\n",
    "x = np.zeros(n)\n",
    "x[n-1] = y[n-1]/LU[n-1,n-1]\n",
    "for i in range(n-2,-1,-1):\n",
    "    #Vetorizei aqui!\n",
    "    x[i] = (y[i] - np.dot(LU[i,i+1:], x[i+1:]))/LU[i,i]\n",
    "\n",
    "tempo = time.time() - start_time\n",
    "\n",
    "print(\"Soma da Solução:\", np.sum(x), \" Tempo que levou: \", tempo)\n",
    "\n",
    "# Solução\n",
    "print('\\nSolução: ')\n",
    "print(x[0])\n",
    "print('\\nTeste: ')\n",
    "print(np.max(np.abs(A@x- b)))\n",
    "\n",
    "#Testes\n",
    "U = np.triu(LU)\n",
    "L = np.tril(LU)\n",
    "np.fill_diagonal(L, 1.0)\n",
    "print('\\nTeste LU: ')\n",
    "print(np.max(np.max(np.abs(L@U-A))))"
   ]
  },
  {
   "cell_type": "markdown",
   "metadata": {},
   "source": [
    "#### Desafio: Você consegue usar essa ideia do LU para fazer diretamente a solução do sistema linear vetorial, com apenas um loop, sem precisar calcular L e U explicitamente como fizemos?"
   ]
  },
  {
   "cell_type": "markdown",
   "metadata": {},
   "source": [
    "## E a precisão das contas?"
   ]
  },
  {
   "cell_type": "markdown",
   "metadata": {},
   "source": [
    "Vamos simular o algoritmo como se ele estivesse rodando em um computador com menos bits, arredondando as contas para um número menos de algarismos significativos."
   ]
  },
  {
   "cell_type": "code",
   "execution_count": 6,
   "metadata": {},
   "outputs": [],
   "source": [
    "from sigfig import round\n",
    "\n",
    "sigfig = 3"
   ]
  },
  {
   "cell_type": "code",
   "execution_count": 7,
   "metadata": {},
   "outputs": [],
   "source": [
    "def gauss_elim_precisao_reduzida(a, n, sigfig):\n",
    "    \n",
    "    # Escalonamento\n",
    "    for i in range(n):\n",
    "        if a[i,i] == 0.0:\n",
    "            sys.exit('Ainda não implementei pivotamento :-( ')\n",
    "            \n",
    "        for j in range(i+1, n):\n",
    "            \n",
    "            ratio = round(a[j,i]/a[i,i], sigfigs = sigfig)\n",
    "            for k in range(n+1):\n",
    "                a[j,k] = round(a[j,k] - round(ratio * a[i,k], sigfigs = sigfig), sigfigs = sigfig)\n",
    "\n",
    "\n",
    "    # Substituição\n",
    "    x[n-1] = round(a[n-1,n]/a[n-1,n-1], sigfigs = sigfig)\n",
    "\n",
    "    for i in range(n-2,-1,-1):\n",
    "        x[i] = a[i,n]\n",
    "        \n",
    "        for j in range(i+1,n):\n",
    "            x[i] = round(x[i] - round(a[i,j]*x[j], sigfigs = sigfig), sigfigs = sigfig)\n",
    "        \n",
    "        x[i] = round(x[i]/a[i,i], sigfigs = sigfig)\n",
    "\n",
    "    return x"
   ]
  },
  {
   "cell_type": "code",
   "execution_count": 8,
   "metadata": {},
   "outputs": [
    {
     "name": "stdout",
     "output_type": "stream",
     "text": [
      "\n",
      "Solução: \n",
      "[4.5  0.   1.01]\n",
      "\n",
      "Teste: \n",
      "[-2.000e-02  1.553e+01 -7.514e+01]\n"
     ]
    },
    {
     "name": "stderr",
     "output_type": "stream",
     "text": [
      "/home/pedrosp/anaconda3/lib/python3.8/site-packages/sigfig/sigfig.py:585: UserWarning: warning: 3 significant figures requested from number with only 1 significant figures\n",
      "  warn(\"warning: %d significant figures requested from number with only %d significant figures\" % (given['sigfigs'], len(num.map)))\n",
      "/home/pedrosp/anaconda3/lib/python3.8/site-packages/sigfig/sigfig.py:585: UserWarning: warning: 3 significant figures requested from number with only 2 significant figures\n",
      "  warn(\"warning: %d significant figures requested from number with only %d significant figures\" % (given['sigfigs'], len(num.map)))\n"
     ]
    }
   ],
   "source": [
    "\n",
    "a = np.matrix('1 4 52 57; 27 110 -3 134; 22 2 14 38')\n",
    "n = 3\n",
    "\n",
    "x = np.zeros(n)\n",
    "A = np.copy(a[:,:-1])\n",
    "b = np.copy(a[:,n]).reshape((n))\n",
    "\n",
    "x = gauss_elim_precisao_reduzida(a, n, sigfig)\n",
    "\n",
    "# Solução\n",
    "print('\\nSolução: ')\n",
    "print(x)\n",
    "print('\\nTeste: ')\n",
    "print(b-A@x)\n"
   ]
  },
  {
   "cell_type": "markdown",
   "metadata": {},
   "source": [
    "O erro foi muito grande!!!!"
   ]
  },
  {
   "cell_type": "markdown",
   "metadata": {},
   "source": [
    "Trocando a ordem das equações:"
   ]
  },
  {
   "cell_type": "code",
   "execution_count": 9,
   "metadata": {},
   "outputs": [
    {
     "name": "stdout",
     "output_type": "stream",
     "text": [
      "\n",
      "Solução: \n",
      "[1. 1. 1.]\n",
      "\n",
      "Teste: \n",
      "[0. 0. 0.]\n"
     ]
    }
   ],
   "source": [
    "a = np.matrix(' 27 110 -3 134; 22 2 14 38; 1 4 52 57')\n",
    "n = 3\n",
    "\n",
    "x = np.zeros(n)\n",
    "A = np.copy(a[:,:-1])\n",
    "b = np.copy(a[:,n]).reshape((n))\n",
    "\n",
    "x = gauss_elim_precisao_reduzida(a, n, sigfig)\n",
    "\n",
    "\n",
    "# Solução\n",
    "print('\\nSolução: ')\n",
    "print(x)\n",
    "print('\\nTeste: ')\n",
    "print(b-A@x)"
   ]
  },
  {
   "cell_type": "markdown",
   "metadata": {},
   "source": [
    "Percebem a diferença de precisão? (é o mesmo computador, só mudamos a ordem das contas...)\n",
    "\n",
    "Vamos colocar piovtamento parcial agora:"
   ]
  },
  {
   "cell_type": "code",
   "execution_count": 10,
   "metadata": {},
   "outputs": [],
   "source": [
    "def gauss_elim_pivot(a, n, sigfig = 20):\n",
    "    \n",
    "    # Escalonamento\n",
    "    for i in range(n):\n",
    "        #Pivotar linha i com linha do máximo valor em módulo!\n",
    "        kmax = i\n",
    "        for k in range(i+1,n):\n",
    "            if np.abs(a[k,kmax]) > np.abs(a[kmax,i]):\n",
    "                kmax = k\n",
    "\n",
    "        #Troca as linhas  \n",
    "        if (kmax != i):\n",
    "            print(\"Troquei linha \", i, \" pela linha \", kmax)\n",
    "            a[[i, kmax], :] = a[[kmax, i], :]\n",
    "\n",
    "        if a[i,i] == 0.0:\n",
    "            sys.exit('Sistema singular!!')\n",
    "            \n",
    "        for j in range(i+1, n):\n",
    "            \n",
    "            ratio = round(a[j,i]/a[i,i], sigfigs = sigfig)\n",
    "            for k in range(n+1):\n",
    "                a[j,k] = round(a[j,k] - round(ratio * a[i,k], sigfigs = sigfig), sigfigs = sigfig)\n",
    "\n",
    "\n",
    "    # Substituição\n",
    "    x[n-1] = round(a[n-1,n]/a[n-1,n-1], sigfigs = sigfig)\n",
    "\n",
    "    for i in range(n-2,-1,-1):\n",
    "        x[i] = a[i,n]\n",
    "        \n",
    "        for j in range(i+1,n):\n",
    "            x[i] = round(x[i] - round(a[i,j]*x[j], sigfigs = sigfig), sigfigs = sigfig)\n",
    "        \n",
    "        x[i] = round(x[i]/a[i,i], sigfigs = sigfig)\n",
    "\n",
    "    return x"
   ]
  },
  {
   "cell_type": "code",
   "execution_count": 11,
   "metadata": {},
   "outputs": [
    {
     "name": "stdout",
     "output_type": "stream",
     "text": [
      "Troquei linha  0  pela linha  1\n",
      "Troquei linha  1  pela linha  2\n",
      "\n",
      "Solução: \n",
      "[1. 1. 1.]\n",
      "\n",
      "Teste: \n",
      "[0. 0. 0.]\n"
     ]
    }
   ],
   "source": [
    "\n",
    "a = np.matrix('1 4 52 57; 27 110 -3 134; 22 2 14 38')\n",
    "n = 3\n",
    "\n",
    "x = np.zeros(n)\n",
    "A = np.copy(a[:,:-1])\n",
    "b = np.copy(a[:,n]).reshape((n))\n",
    "\n",
    "x = gauss_elim_pivot(a, n, sigfig)\n",
    "\n",
    "# Solução\n",
    "print('\\nSolução: ')\n",
    "print(x)\n",
    "print('\\nTeste: ')\n",
    "print(b-A@x)\n"
   ]
  },
  {
   "cell_type": "code",
   "execution_count": null,
   "metadata": {},
   "outputs": [],
   "source": []
  }
 ],
 "metadata": {
  "interpreter": {
   "hash": "fcf97c18a3f68eb86a5e34e087092a6e4d1ecdc30793e67777843d03da539a6d"
  },
  "kernelspec": {
   "display_name": "Python 3.8.8 64-bit ('devito': conda)",
   "language": "python",
   "name": "python3"
  },
  "language_info": {
   "codemirror_mode": {
    "name": "ipython",
    "version": 3
   },
   "file_extension": ".py",
   "mimetype": "text/x-python",
   "name": "python",
   "nbconvert_exporter": "python",
   "pygments_lexer": "ipython3",
   "version": "3.8.8"
  }
 },
 "nbformat": 4,
 "nbformat_minor": 4
}
