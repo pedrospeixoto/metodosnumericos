{
 "cells": [
  {
   "cell_type": "markdown",
   "metadata": {},
   "source": [
    "# Eliminação de Gauss\n",
    "\n",
    "### Prof. Pedro Peixoto <ppeixoto@usp.br>\n",
    "\n",
    "Abril 2022\n"
   ]
  },
  {
   "cell_type": "code",
   "execution_count": 1,
   "metadata": {},
   "outputs": [],
   "source": [
    "import numpy as np\n",
    "import sys\n",
    "import time"
   ]
  },
  {
   "cell_type": "markdown",
   "metadata": {},
   "source": [
    "### O problema Ax=b"
   ]
  },
  {
   "cell_type": "code",
   "execution_count": 75,
   "metadata": {},
   "outputs": [],
   "source": [
    "# Tamanho do sistema\n",
    "n = 300\n",
    "\n",
    "def create_matrix(n):\n",
    "    # Matriz aumentada A|b\n",
    "    a = np.zeros((n,n+1))\n",
    "\n",
    "    # Matriz A\n",
    "    for i in range(n):\n",
    "        for j in range(n):\n",
    "            if (i == j) :\n",
    "                a[i,j] = 2\n",
    "            elif (abs(i-j)< 2):\n",
    "                a[i,j] = -1\n",
    "\n",
    "    # Vetor b \n",
    "    for i in range(n):\n",
    "        a[i,n] = 1\n",
    "\n",
    "    #print(a)\n",
    "    return a\n",
    "    "
   ]
  },
  {
   "cell_type": "markdown",
   "metadata": {},
   "source": [
    "### O esquema clássico, sem pivotamento"
   ]
  },
  {
   "cell_type": "code",
   "execution_count": 77,
   "metadata": {},
   "outputs": [
    {
     "name": "stdout",
     "output_type": "stream",
     "text": [
      "Soma da Solução: 2272550.0000000903  Tempo que levou:  4.813074111938477\n",
      "\n",
      "Solução: \n",
      "150.00000000000156\n",
      "\n",
      "Teste: \n",
      "1.9895196601282805e-12\n"
     ]
    }
   ],
   "source": [
    "a = create_matrix(n)\n",
    "x = np.zeros(n)\n",
    "A = a[:,:-1]\n",
    "b = a[:,n]\n",
    "\n",
    "start_time = time.time()\n",
    "# Escalonamento\n",
    "for i in range(n):\n",
    "    if a[i,i] == 0.0:\n",
    "        sys.exit('Ainda não implementei pivotamento :-( ')\n",
    "        \n",
    "    for j in range(i+1, n):\n",
    "        ratio = a[j,i]/a[i,i]\n",
    "        for k in range(n+1):\n",
    "            a[j,k] = a[j,k] - ratio * a[i,k]\n",
    "\n",
    "# Substituição\n",
    "x[n-1] = a[n-1,n]/a[n-1,n-1]\n",
    "\n",
    "for i in range(n-2,-1,-1):\n",
    "    x[i] = a[i,n]\n",
    "    \n",
    "    for j in range(i+1,n):\n",
    "        x[i] = x[i] - a[i,j]*x[j]\n",
    "    \n",
    "    x[i] = x[i]/a[i,i]\n",
    "tempo = time.time() - start_time\n",
    "\n",
    "print(\"Soma da Solução:\", np.sum(x), \" Tempo que levou: \", tempo)\n",
    "\n",
    "# Solução\n",
    "print('\\nSolução: ')\n",
    "print(x[0])\n",
    "print('\\nTeste: ')\n",
    "print(np.max(np.abs(A@x- b)))\n"
   ]
  },
  {
   "cell_type": "markdown",
   "metadata": {},
   "source": [
    "### Dá para vetorizar?"
   ]
  },
  {
   "cell_type": "code",
   "execution_count": 78,
   "metadata": {},
   "outputs": [
    {
     "name": "stdout",
     "output_type": "stream",
     "text": [
      "Soma da Solução: 2272550.0000000903  Tempo que levou:  0.12741398811340332\n",
      "\n",
      "Solução: \n",
      "150.00000000000156\n",
      "\n",
      "Teste: \n",
      "1.9895196601282805e-12\n"
     ]
    }
   ],
   "source": [
    "a = create_matrix(n)\n",
    "x = np.zeros(n)\n",
    "A = a[:,:-1]\n",
    "b = a[:,n]\n",
    "\n",
    "start_time = time.time()\n",
    "\n",
    "# Escalonamento\n",
    "for i in range(n):\n",
    "    if a[i,i] == 0.0:\n",
    "        sys.exit('Ainda não implementei pivotamento :-( ')\n",
    "        \n",
    "    for j in range(i+1, n):        \n",
    "        #Vetorizei aqui!\n",
    "        a[j,:] = a[j,:] - a[j,i]/a[i,i] * a[i,:]\n",
    "\n",
    "# Substituição\n",
    "x[n-1] = a[n-1,n]/a[n-1,n-1]\n",
    "\n",
    "for i in range(n-2,-1,-1):\n",
    "    #Vetorizei aqui!\n",
    "    x[i] = (a[i,n] - np.dot(a[i,i+1:n], x[i+1:n]))/a[i,i]\n",
    "\n",
    "tempo = time.time() - start_time\n",
    "\n",
    "print(\"Soma da Solução:\", np.sum(x), \" Tempo que levou: \", tempo)\n",
    "\n",
    "# Solução\n",
    "print('\\nSolução: ')\n",
    "print(x[0])\n",
    "print('\\nTeste: ')\n",
    "print(np.max(np.abs(A@x- b)))"
   ]
  },
  {
   "cell_type": "markdown",
   "metadata": {},
   "source": [
    "### Dá para vetorizar mais?"
   ]
  },
  {
   "cell_type": "markdown",
   "metadata": {},
   "source": [
    "Para isso tem que mudar o algoritmos, vejamos um algoritmo de decomposição LU (que vai serir de base para Elim. Gaussiana vetorial): Algoritmo de Crout (ou Doolittle, dependendo de onde colocamos a diagonal unitária).\n"
   ]
  },
  {
   "cell_type": "code",
   "execution_count": 79,
   "metadata": {},
   "outputs": [
    {
     "name": "stdout",
     "output_type": "stream",
     "text": [
      "Soma da Solução: 2272550.0000000903  Tempo que levou:  0.025944948196411133\n",
      "\n",
      "Solução: \n",
      "150.00000000000156\n",
      "\n",
      "Teste: \n",
      "3.637978807091713e-12\n",
      "\n",
      "Teste LU: \n",
      "1.1102230246251565e-16\n"
     ]
    }
   ],
   "source": [
    "a = create_matrix(n)\n",
    "\n",
    "A = a[:,:-1]\n",
    "b = a[:,n]\n",
    "\n",
    "start_time = time.time()\n",
    "\n",
    "#Guardo tanto L quanto U em uma única matriz!!!!\n",
    "LU = np.eye(n)\n",
    "# @ faz multiplicação de matrizes usando numpy\n",
    "for i in range(n):\n",
    "    #Varre linhas superiores (Upper)\n",
    "    LU[i,i:] = A[i,i:]-LU[i,:i] @ LU[:i,i:]\n",
    "    #Varre colunas inferiores (Lower)\n",
    "    LU[(i+1):,i] = ( A[(i+1):,i]- LU[(i+1):,:i] @ LU[:i,i] ) / LU[i,i]\n",
    "\n",
    "\n",
    "# Substituição\n",
    "# LUx=b\n",
    "# Ly=b\n",
    "y = np.zeros(n)\n",
    "# Ly=b\n",
    "y[0] = b[0]\n",
    "for i in range(1,n,1):\n",
    "    #Vetorizei aqui!\n",
    "    y[i] = (b[i] - np.dot(LU[i,:i], y[:i]))\n",
    "\n",
    "# Ux=y\n",
    "x = np.zeros(n)\n",
    "x[n-1] = y[n-1]/LU[n-1,n-1]\n",
    "for i in range(n-2,-1,-1):\n",
    "    #Vetorizei aqui!\n",
    "    x[i] = (y[i] - np.dot(LU[i,i+1:], x[i+1:]))/LU[i,i]\n",
    "\n",
    "tempo = time.time() - start_time\n",
    "\n",
    "print(\"Soma da Solução:\", np.sum(x), \" Tempo que levou: \", tempo)\n",
    "\n",
    "# Solução\n",
    "print('\\nSolução: ')\n",
    "print(x[0])\n",
    "print('\\nTeste: ')\n",
    "print(np.max(np.abs(A@x- b)))\n",
    "\n",
    "#Testes\n",
    "U = np.triu(LU)\n",
    "L = np.tril(LU)\n",
    "np.fill_diagonal(L, 1.0)\n",
    "print('\\nTeste LU: ')\n",
    "print(np.max(np.max(np.abs(L@U-A))))"
   ]
  },
  {
   "cell_type": "markdown",
   "metadata": {},
   "source": [
    "Desafio: Você consegue usar essa ideia do LU para fazer diretamente a solução do sistema linear vetorial, com apenas um loop, sem precisar calcular L e U explicitamente como fizemos?"
   ]
  }
 ],
 "metadata": {
  "interpreter": {
   "hash": "fcf97c18a3f68eb86a5e34e087092a6e4d1ecdc30793e67777843d03da539a6d"
  },
  "kernelspec": {
   "display_name": "Python 3.8.8 64-bit ('devito': conda)",
   "language": "python",
   "name": "python3"
  },
  "language_info": {
   "codemirror_mode": {
    "name": "ipython",
    "version": 3
   },
   "file_extension": ".py",
   "mimetype": "text/x-python",
   "name": "python",
   "nbconvert_exporter": "python",
   "pygments_lexer": "ipython3",
   "version": "3.8.8"
  }
 },
 "nbformat": 4,
 "nbformat_minor": 4
}
